{
  "nbformat": 4,
  "nbformat_minor": 0,
  "metadata": {
    "colab": {
      "provenance": []
    },
    "kernelspec": {
      "name": "python3",
      "display_name": "Python 3"
    },
    "language_info": {
      "name": "python"
    }
  },
  "cells": [
    {
      "cell_type": "code",
      "execution_count": 4,
      "metadata": {
        "colab": {
          "base_uri": "https://localhost:8080/"
        },
        "id": "EFkHbzH4H3Wd",
        "outputId": "3bc1efdc-84c2-4f49-fd0a-5d38468e98e3"
      },
      "outputs": [
        {
          "output_type": "stream",
          "name": "stdout",
          "text": [
            "manishankarreddy mali\n",
            "Go vnn\n"
          ]
        }
      ],
      "source": [
        "#1.1\n",
        "first_name = \"manishankarreddy\"\n",
        "last_name = \"mali\"\n",
        "def fullname(first_name , last_name):\n",
        "  return first_name + \" \" + last_name\n",
        "print(fullname(first_name , last_name))\n",
        "\n",
        "\n",
        "#1.2\n",
        "str = \"Good evening\"\n",
        "def string_alternative(string):\n",
        "  res = \"\"\n",
        "  for i in range(0,len(string),2):\n",
        "    res += string[i]\n",
        "  print (res)\n",
        "def main():\n",
        "  string_alternative(str)\n",
        "main()\n",
        "\n"
      ]
    },
    {
      "cell_type": "code",
      "source": [],
      "metadata": {
        "id": "Nu0YZoSQNeRX"
      },
      "execution_count": null,
      "outputs": []
    },
    {
      "cell_type": "code",
      "source": [
        "from collections import Counter\n",
        "with open ('/content/drive/MyDrive/input.txt', 'r') as input_file:\n",
        "  lines = input_file.readlines()\n",
        "output_lines = []\n",
        "list_of_words = []\n",
        "for line in lines:\n",
        "  line = line.strip()\n",
        "  list_of_words.extend(line.split())\n",
        "print(list_of_words)\n",
        "\n"
      ],
      "metadata": {
        "colab": {
          "base_uri": "https://localhost:8080/"
        },
        "id": "Y9epMyh9RarZ",
        "outputId": "035616c0-b389-4538-9e50-0f72e3aeddfc"
      },
      "execution_count": 5,
      "outputs": [
        {
          "output_type": "stream",
          "name": "stdout",
          "text": [
            "['Python', 'Course', 'Deep', 'Learning', 'Course']\n"
          ]
        }
      ]
    },
    {
      "cell_type": "code",
      "source": [
        "element_count = Counter(list_of_words)\n",
        "for element, count in element_count.items():\n",
        "  output_lines.append(f\"{element} - count: {count}\")\n",
        "with open('/content/drive/MyDrive/output.txt', 'w') as output_file:\n",
        "   output_file.write(\"Python Course\"+ '\\n')\n",
        "   output_file.write(\"Deep Learning Course\" + '\\n')\n",
        "   output_file.write(\"word count:\" + '\\n')\n",
        "   for line in output_lines:\n",
        "      output_file.write(line + '\\n')\n",
        "print(\"output written to output.txt\")\n"
      ],
      "metadata": {
        "colab": {
          "base_uri": "https://localhost:8080/"
        },
        "id": "nzQgJv5NoPAQ",
        "outputId": "a3b0381c-d2cf-4b86-fabc-01bd876dc98e"
      },
      "execution_count": 6,
      "outputs": [
        {
          "output_type": "stream",
          "name": "stdout",
          "text": [
            "output written to output.txt\n"
          ]
        }
      ]
    },
    {
      "cell_type": "code",
      "source": [
        "inchesList = list(map(int, input().split(\",\")))\n",
        "cmList = []\n",
        "cmList_comprehensions = []\n",
        "\n",
        "def inchToCm(inch):\n",
        "  return (inch * 2.54)\n",
        "\n",
        "# Nested Interactive loop\n",
        "for i in inchesList :\n",
        "    cmList.append(inchToCm(i))\n",
        "\n",
        "print (\"Nested Interactive loop : \\n\", cmList)\n",
        "\n",
        "# List Comprehension\n",
        "cmList_comprehensions = [inchToCm(inch) for inch in inchesList]\n",
        "\n",
        "\n",
        "print (\"List Comprehension : \\n\", cmList_comprehensions)\n"
      ],
      "metadata": {
        "colab": {
          "base_uri": "https://localhost:8080/"
        },
        "id": "CbzxMBaQ6G7L",
        "outputId": "b549440a-374f-486e-bfb7-50d1fbadbfed"
      },
      "execution_count": 7,
      "outputs": [
        {
          "output_type": "stream",
          "name": "stdout",
          "text": [
            "2,3,4\n",
            "Nested Interactive loop : \n",
            " [5.08, 7.62, 10.16]\n",
            "List Comprehension : \n",
            " [5.08, 7.62, 10.16]\n"
          ]
        }
      ]
    }
  ]
}